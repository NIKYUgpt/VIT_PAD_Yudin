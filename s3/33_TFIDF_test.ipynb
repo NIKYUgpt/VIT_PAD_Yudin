{
 "cells": [
  {
   "cell_type": "markdown",
   "source": [
    "# Задание 1\n",
    "Реализовать векторизацию по tf-idf для следующих документов\n",
    "docA = “The car is driven on the road”;\n",
    "docB = “The truck is driven on the highway”\n",
    "\n",
    "# Задание 2\n",
    "Реализовать векторизацию по tf-idf для следующих документов\n",
    "docA = \"Пушистая кошка сидит на моей кровати\"\n",
    "docB = \"Черная собака сидит на моем пороге\"\n",
    "docС = \"Пушистая черная кошка села на подоконнике\""
   ],
   "metadata": {
    "collapsed": false
   }
  },
  {
   "cell_type": "code",
   "execution_count": null,
   "outputs": [],
   "source": [],
   "metadata": {
    "collapsed": false
   }
  }
 ],
 "metadata": {
  "kernelspec": {
   "display_name": "Python 3",
   "language": "python",
   "name": "python3"
  },
  "language_info": {
   "codemirror_mode": {
    "name": "ipython",
    "version": 2
   },
   "file_extension": ".py",
   "mimetype": "text/x-python",
   "name": "python",
   "nbconvert_exporter": "python",
   "pygments_lexer": "ipython2",
   "version": "2.7.6"
  }
 },
 "nbformat": 4,
 "nbformat_minor": 0
}
